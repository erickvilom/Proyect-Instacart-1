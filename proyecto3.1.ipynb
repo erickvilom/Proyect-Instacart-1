{
 "cells": [
  {
   "cell_type": "markdown",
   "id": "3Xg_RQfnafXz",
   "metadata": {
    "id": "3Xg_RQfnafXz"
   },
   "source": [
    "# ¡Llena ese carrito!"
   ]
  },
  {
   "cell_type": "markdown",
   "id": "mhIvmmkW414q",
   "metadata": {
    "id": "mhIvmmkW414q"
   },
   "source": [
    "# Introducción\n",
    "\n",
    "Instacart es una plataforma de entregas de comestibles donde la clientela puede registrar un pedido y hacer que se lo entreguen, similar a Uber Eats y Door Dash.\n",
    "El conjunto de datos que te hemos proporcionado tiene modificaciones del original. Redujimos el tamaño del conjunto para que tus cálculos se hicieran más rápido e introdujimos valores ausentes y duplicados. Tuvimos cuidado de conservar las distribuciones de los datos originales cuando hicimos los cambios.\n",
    "\n",
    "Debes completar tres pasos. Para cada uno de ellos, escribe una breve introducción que refleje con claridad cómo pretendes resolver cada paso, y escribe párrafos explicatorios que justifiquen tus decisiones al tiempo que avanzas en tu solución.  También escribe una conclusión que resuma tus hallazgos y elecciones.\n"
   ]
  },
  {
   "cell_type": "markdown",
   "id": "3MbyzpOQZ5Or",
   "metadata": {
    "id": "3MbyzpOQZ5Or"
   },
   "source": [
    "## Diccionario de datos\n",
    "\n",
    "Hay cinco tablas en el conjunto de datos, y tendrás que usarlas todas para hacer el preprocesamiento de datos y el análisis exploratorio de datos. A continuación se muestra un diccionario de datos que enumera las columnas de cada tabla y describe los datos que contienen.\n",
    "\n",
    "- `instacart_orders.csv`: cada fila corresponde a un pedido en la aplicación Instacart.\n",
    "    - `'order_id'`: número de ID que identifica de manera única cada pedido.\n",
    "    - `'user_id'`: número de ID que identifica de manera única la cuenta de cada cliente.\n",
    "    - `'order_number'`: el número de veces que este cliente ha hecho un pedido.\n",
    "    - `'order_dow'`: día de la semana en que se hizo el pedido (0 si es domingo).\n",
    "    - `'order_hour_of_day'`: hora del día en que se hizo el pedido.\n",
    "    - `'days_since_prior_order'`: número de días transcurridos desde que este cliente hizo su pedido anterior.\n",
    "- `products.csv`: cada fila corresponde a un producto único que pueden comprar los clientes.\n",
    "    - `'product_id'`: número ID que identifica de manera única cada producto.\n",
    "    - `'product_name'`: nombre del producto.\n",
    "    - `'aisle_id'`: número ID que identifica de manera única cada categoría de pasillo de víveres.\n",
    "    - `'department_id'`: número ID que identifica de manera única cada departamento de víveres.\n",
    "- `order_products.csv`: cada fila corresponde a un artículo pedido en un pedido.\n",
    "    - `'order_id'`: número de ID que identifica de manera única cada pedido.\n",
    "    - `'product_id'`: número ID que identifica de manera única cada producto.\n",
    "    - `'add_to_cart_order'`: el orden secuencial en el que se añadió cada artículo en el carrito.\n",
    "    - `'reordered'`: 0 si el cliente nunca ha pedido este producto antes, 1 si lo ha pedido.\n",
    "- `aisles.csv`\n",
    "    - `'aisle_id'`: número ID que identifica de manera única cada categoría de pasillo de víveres.\n",
    "    - `'aisle'`: nombre del pasillo.\n",
    "- `departments.csv`\n",
    "    - `'department_id'`: número ID que identifica de manera única cada departamento de víveres.\n",
    "    - `'department'`: nombre del departamento."
   ]
  },
  {
   "cell_type": "markdown",
   "id": "n3Ha_cNSZ8lK",
   "metadata": {
    "id": "n3Ha_cNSZ8lK"
   },
   "source": [
    "# Paso 1. Descripción de los datos\n",
    "\n",
    "Lee los archivos de datos (`/datasets/instacart_orders.csv`, `/datasets/products.csv`, `/datasets/aisles.csv`, `/datasets/departments.csv` y `/datasets/order_products.csv`) con `pd.read_csv()` usando los parámetros adecuados para leer los datos correctamente. Verifica la información para cada DataFrame creado.\n"
   ]
  },
  {
   "cell_type": "markdown",
   "id": "OmlQPLlyaAfR",
   "metadata": {
    "id": "OmlQPLlyaAfR"
   },
   "source": [
    "## Plan de solución\n",
    "\n",
    "Escribe aquí tu plan de solución para el Paso 1. Descripción de los datos.\n",
    "\n",
    "Primero voy a importar pandas para proceder a leer los archivos csv antes mencionados con la función pd.read_csv()\n",
    "y luego voy a imprimir la información de cada uno para obtener un resumen de cada dataframe y ver susespecificaciones. \n"
   ]
  },
  {
   "cell_type": "code",
   "execution_count": 3,
   "id": "fbf1adab",
   "metadata": {
    "id": "fbf1adab"
   },
   "outputs": [],
   "source": [
    "import pandas as pd # importar librerías\n",
    "import matplotlib.pyplot as plt\n",
    "import numpy as np"
   ]
  },
  {
   "cell_type": "code",
   "execution_count": 6,
   "id": "ad36396d",
   "metadata": {
    "id": "ad36396d"
   },
   "outputs": [],
   "source": [
    "instacart_orders = pd.read_csv('/datasets/instacart_orders.csv', sep=';', dtype={'order_id': 'int', 'user_id': 'int'})\n",
    "products = pd.read_csv('/datasets/products.csv', sep=';', dtype={'product_id': 'int', 'aisle_id': 'int', 'department_id': 'int'})\n",
    "aisles = pd.read_csv('/datasets/aisles.csv', sep=';', dtype={'aisle_id': 'int'})\n",
    "departments = pd.read_csv('/datasets/departments.csv', sep=';', dtype={'department_id': 'int'})\n",
    "order_products = pd.read_csv('/datasets/order_products.csv', sep=';', dtype={'order_id': 'int', 'product_id': 'int'})\n",
    "\n",
    "\n"
   ]
  },
  {
   "cell_type": "code",
   "execution_count": 7,
   "id": "ad6a1efa",
   "metadata": {
    "id": "ad6a1efa",
    "scrolled": true
   },
   "outputs": [
    {
     "name": "stdout",
     "output_type": "stream",
     "text": [
      "<class 'pandas.core.frame.DataFrame'>\n",
      "RangeIndex: 478967 entries, 0 to 478966\n",
      "Data columns (total 6 columns):\n",
      " #   Column                  Non-Null Count   Dtype  \n",
      "---  ------                  --------------   -----  \n",
      " 0   order_id                478967 non-null  int64  \n",
      " 1   user_id                 478967 non-null  int64  \n",
      " 2   order_number            478967 non-null  int64  \n",
      " 3   order_dow               478967 non-null  int64  \n",
      " 4   order_hour_of_day       478967 non-null  int64  \n",
      " 5   days_since_prior_order  450148 non-null  float64\n",
      "dtypes: float64(1), int64(5)\n",
      "memory usage: 21.9 MB\n",
      "None\n",
      "   order_id  user_id  order_number  order_dow  order_hour_of_day  \\\n",
      "0   1515936   183418            11          6                 13   \n",
      "1   1690866   163593             5          5                 12   \n",
      "2   1454967    39980             4          5                 19   \n",
      "3   1768857    82516            56          0                 20   \n",
      "4   3007858   196724             2          4                 12   \n",
      "\n",
      "   days_since_prior_order  \n",
      "0                    30.0  \n",
      "1                     9.0  \n",
      "2                     2.0  \n",
      "3                    10.0  \n",
      "4                    17.0  \n"
     ]
    }
   ],
   "source": [
    "print(instacart_orders.info())# mostrar información del DataFrame\n",
    "print(instacart_orders.head(5))"
   ]
  },
  {
   "cell_type": "code",
   "execution_count": 8,
   "id": "5130e05e",
   "metadata": {
    "id": "5130e05e"
   },
   "outputs": [
    {
     "name": "stdout",
     "output_type": "stream",
     "text": [
      "<class 'pandas.core.frame.DataFrame'>\n",
      "RangeIndex: 49694 entries, 0 to 49693\n",
      "Data columns (total 4 columns):\n",
      " #   Column         Non-Null Count  Dtype \n",
      "---  ------         --------------  ----- \n",
      " 0   product_id     49694 non-null  int64 \n",
      " 1   product_name   48436 non-null  object\n",
      " 2   aisle_id       49694 non-null  int64 \n",
      " 3   department_id  49694 non-null  int64 \n",
      "dtypes: int64(3), object(1)\n",
      "memory usage: 1.5+ MB\n",
      "None\n",
      "   product_id                                       product_name  aisle_id  \\\n",
      "0           1                         Chocolate Sandwich Cookies        61   \n",
      "1           2                                   All-Seasons Salt       104   \n",
      "2           3               Robust Golden Unsweetened Oolong Tea        94   \n",
      "3           4  Smart Ones Classic Favorites Mini Rigatoni Wit...        38   \n",
      "4           5                          Green Chile Anytime Sauce         5   \n",
      "\n",
      "   department_id  \n",
      "0             19  \n",
      "1             13  \n",
      "2              7  \n",
      "3              1  \n",
      "4             13  \n"
     ]
    }
   ],
   "source": [
    "print(products.info())# mostrar información del DataFrame\n",
    "print(products.head(5))"
   ]
  },
  {
   "cell_type": "code",
   "execution_count": 9,
   "id": "d8370c05",
   "metadata": {
    "id": "d8370c05"
   },
   "outputs": [
    {
     "name": "stdout",
     "output_type": "stream",
     "text": [
      "<class 'pandas.core.frame.DataFrame'>\n",
      "RangeIndex: 134 entries, 0 to 133\n",
      "Data columns (total 2 columns):\n",
      " #   Column    Non-Null Count  Dtype \n",
      "---  ------    --------------  ----- \n",
      " 0   aisle_id  134 non-null    int64 \n",
      " 1   aisle     134 non-null    object\n",
      "dtypes: int64(1), object(1)\n",
      "memory usage: 2.2+ KB\n",
      "None\n",
      "   aisle_id                       aisle\n",
      "0         1       prepared soups salads\n",
      "1         2           specialty cheeses\n",
      "2         3         energy granola bars\n",
      "3         4               instant foods\n",
      "4         5  marinades meat preparation\n"
     ]
    }
   ],
   "source": [
    "print(aisles.info())# mostrar información del DataFrame\n",
    "print(aisles.head(5))"
   ]
  },
  {
   "cell_type": "code",
   "execution_count": 10,
   "id": "59e2090f",
   "metadata": {
    "id": "59e2090f"
   },
   "outputs": [
    {
     "name": "stdout",
     "output_type": "stream",
     "text": [
      "<class 'pandas.core.frame.DataFrame'>\n",
      "RangeIndex: 21 entries, 0 to 20\n",
      "Data columns (total 2 columns):\n",
      " #   Column         Non-Null Count  Dtype \n",
      "---  ------         --------------  ----- \n",
      " 0   department_id  21 non-null     int64 \n",
      " 1   department     21 non-null     object\n",
      "dtypes: int64(1), object(1)\n",
      "memory usage: 464.0+ bytes\n",
      "None\n",
      "   department_id department\n",
      "0              1     frozen\n",
      "1              2      other\n",
      "2              3     bakery\n",
      "3              4    produce\n",
      "4              5    alcohol\n"
     ]
    }
   ],
   "source": [
    "print(departments.info())# mostrar información del DataFrame\n",
    "print(departments.head(5))"
   ]
  },
  {
   "cell_type": "code",
   "execution_count": 11,
   "id": "6fc81694",
   "metadata": {
    "id": "6fc81694"
   },
   "outputs": [
    {
     "name": "stdout",
     "output_type": "stream",
     "text": [
      "<class 'pandas.core.frame.DataFrame'>\n",
      "RangeIndex: 4545007 entries, 0 to 4545006\n",
      "Data columns (total 4 columns):\n",
      " #   Column             Dtype  \n",
      "---  ------             -----  \n",
      " 0   order_id           int64  \n",
      " 1   product_id         int64  \n",
      " 2   add_to_cart_order  float64\n",
      " 3   reordered          int64  \n",
      "dtypes: float64(1), int64(3)\n",
      "memory usage: 138.7 MB\n",
      "None\n",
      "   order_id  product_id  add_to_cart_order  reordered\n",
      "0   2141543       11440               17.0          0\n",
      "1    567889        1560                1.0          1\n",
      "2   2261212       26683                1.0          1\n",
      "3    491251        8670               35.0          1\n",
      "4   2571142        1940                5.0          1\n"
     ]
    }
   ],
   "source": [
    "print(order_products.info())# mostrar información del DataFrame\n",
    "print(order_products.head(5))"
   ]
  },
  {
   "cell_type": "markdown",
   "id": "t75BD19oaR5f",
   "metadata": {
    "id": "t75BD19oaR5f"
   },
   "source": [
    "## Conclusiones\n",
    "\n",
    "Escribe aquí tus conclusiones intermedias sobre el Paso 1. Descripción de los datos.\n",
    "\n",
    "Al leer las espicificaciones y mostrar un ejemplo de la información contenida en los dataframes, pude observar que hay algunos errores en los archivos que pueden dificultar nuestro anáisis, por ejemplo las columnas y demás datos estan separadas por punto y coma en lugar de coma además de que hay algunos datos que están en formato de texto que hay que cambiar de tipo para poder trabajar en la información adecuadamente. \n",
    "\n"
   ]
  },
  {
   "cell_type": "markdown",
   "id": "8RJHqxVmaVsF",
   "metadata": {
    "id": "8RJHqxVmaVsF"
   },
   "source": [
    "# Paso 2. Preprocesamiento de los datos\n",
    "\n",
    "Preprocesa los datos de la siguiente manera:\n",
    "\n",
    "- Verifica y corrige los tipos de datos (por ejemplo, asegúrate de que las columnas de ID sean números enteros).\n",
    "- Identifica y completa los valores ausentes.\n",
    "- Identifica y elimina los valores duplicados.\n",
    "\n",
    "Asegúrate de explicar qué tipos de valores ausentes y duplicados encontraste, cómo los completaste o eliminaste y por qué usaste esos métodos. ¿Por qué crees que estos valores ausentes y duplicados pueden haber estado presentes en el conjunto de datos?"
   ]
  },
  {
   "cell_type": "markdown",
   "id": "62d33ff8",
   "metadata": {},
   "source": [
    "\n",
    "Listo profesor! la explicación de lo que hice para procesar los datos la puse aquí abajo en el plan de solución del paso 2, gracias!\n"
   ]
  },
  {
   "cell_type": "markdown",
   "id": "p6poABZQaZYb",
   "metadata": {
    "id": "p6poABZQaZYb"
   },
   "source": [
    "## Plan de solución\n",
    "\n",
    "Escribe aquí tu plan para el Paso 2. Preprocesamiento de los datos.\n",
    "\n",
    "En este paso hice algunos cambios a la hora de leer los archivos para que la información se desplegara de mucho mejor manera y así evitar problemas a la hora de realizar los ejercicios, indiqué el separador punto y coma por coma para que los datos y columnas se pudiesen leer separados ya que anteriormente se leía todo junto e indicaba que solo había una columna, además cambié el tipo de datos de algunas columnas en cada dataframe de texto a int."
   ]
  },
  {
   "cell_type": "markdown",
   "id": "07357848-dc64-4156-9cc3-01ff4365226d",
   "metadata": {
    "id": "07357848-dc64-4156-9cc3-01ff4365226d"
   },
   "source": [
    "## Encuentra y elimina los valores duplicados (y describe cómo tomaste tus decisiones)."
   ]
  },
  {
   "cell_type": "markdown",
   "id": "f179f0a9",
   "metadata": {
    "id": "f179f0a9"
   },
   "source": [
    "### `orders` data frame"
   ]
  },
  {
   "cell_type": "code",
   "execution_count": 13,
   "id": "b99297a5-405a-463d-8535-9adc3da4ad74",
   "metadata": {
    "id": "b99297a5-405a-463d-8535-9adc3da4ad74"
   },
   "outputs": [
    {
     "name": "stdout",
     "output_type": "stream",
     "text": [
      "30\n",
      "        order_id  user_id  order_number  order_dow  order_hour_of_day  \\\n",
      "30371    1918001   188546            14          3                  2   \n",
      "99462     794638    50898            24          3                  2   \n",
      "119251    408114    68324             4          3                  2   \n",
      "142258   2845099    31189            11          3                  2   \n",
      "145574    794638    50898            24          3                  2   \n",
      "164581   1112182   202304            84          3                  2   \n",
      "200059   1782114   106752             1          3                  2   \n",
      "204042   2125197    14050            48          3                  2   \n",
      "215294   2160484   107525            16          3                  2   \n",
      "223105   2160484   107525            16          3                  2   \n",
      "230807   1918001   188546            14          3                  2   \n",
      "242618   1021560    53767             3          3                  2   \n",
      "250626    467134    63189            21          3                  2   \n",
      "257934   1919531   191501            32          3                  2   \n",
      "259636   2282673    86751            49          3                  2   \n",
      "266232   1782114   106752             1          3                  2   \n",
      "273805   1112182   202304            84          3                  2   \n",
      "284038   2845099    31189            11          3                  2   \n",
      "311713   1021560    53767             3          3                  2   \n",
      "314427   1286742   183220            48          3                  2   \n",
      "321100    408114    68324             4          3                  2   \n",
      "323900   1919531   191501            32          3                  2   \n",
      "324868   2232988    82565             1          3                  2   \n",
      "345917   2232988    82565             1          3                  2   \n",
      "354993    391768    57671            19          3                  2   \n",
      "371905    391768    57671            19          3                  2   \n",
      "394347    467134    63189            21          3                  2   \n",
      "411408   1286742   183220            48          3                  2   \n",
      "415163   2282673    86751            49          3                  2   \n",
      "441599   2125197    14050            48          3                  2   \n",
      "\n",
      "        days_since_prior_order  \n",
      "30371                     16.0  \n",
      "99462                      2.0  \n",
      "119251                    18.0  \n",
      "142258                     7.0  \n",
      "145574                     2.0  \n",
      "164581                     6.0  \n",
      "200059                     NaN  \n",
      "204042                     3.0  \n",
      "215294                    30.0  \n",
      "223105                    30.0  \n",
      "230807                    16.0  \n",
      "242618                     9.0  \n",
      "250626                     2.0  \n",
      "257934                     7.0  \n",
      "259636                     2.0  \n",
      "266232                     NaN  \n",
      "273805                     6.0  \n",
      "284038                     7.0  \n",
      "311713                     9.0  \n",
      "314427                     4.0  \n",
      "321100                    18.0  \n",
      "323900                     7.0  \n",
      "324868                     NaN  \n",
      "345917                     NaN  \n",
      "354993                    10.0  \n",
      "371905                    10.0  \n",
      "394347                     2.0  \n",
      "411408                     4.0  \n",
      "415163                     2.0  \n",
      "441599                     3.0  \n"
     ]
    }
   ],
   "source": [
    "# Revisa si hay pedidos duplicados\n",
    "duplicated_orders = instacart_orders.duplicated(subset=['order_id'], keep=False)\n",
    "print(duplicated_orders.sum())\n",
    "\n",
    "duplicated_orders = instacart_orders[instacart_orders.duplicated(subset=['order_id'], keep=False)]\n",
    "print(duplicated_orders)"
   ]
  },
  {
   "cell_type": "markdown",
   "id": "PEkwUX_gvt5A",
   "metadata": {
    "id": "PEkwUX_gvt5A"
   },
   "source": [
    "¿Tienes líneas duplicadas? Si sí, ¿qué tienen en común?\n",
    "\n",
    "Sí hay líneas dupicadas y tienen en común que todas fueron realizadas el miércoles a las 2 de la mañana"
   ]
  },
  {
   "cell_type": "code",
   "execution_count": 14,
   "id": "0d44de5d",
   "metadata": {
    "id": "0d44de5d"
   },
   "outputs": [
    {
     "name": "stdout",
     "output_type": "stream",
     "text": [
      "        order_id  user_id  order_number  order_dow  order_hour_of_day  \\\n",
      "4838     2766110   162084            41          3                  2   \n",
      "5156     2190225   138285            18          3                  2   \n",
      "15506     553049    58599            13          3                  2   \n",
      "18420     382357   120200            19          3                  2   \n",
      "24691     690242    77357             2          3                  2   \n",
      "...          ...      ...           ...        ...                ...   \n",
      "457013   3384021    14881             6          3                  2   \n",
      "458816    910166   164782            18          3                  2   \n",
      "459635   1680532   106435             6          3                  2   \n",
      "468324    222962    54979            59          3                  2   \n",
      "477526   2592344    46860            38          3                  2   \n",
      "\n",
      "        days_since_prior_order  \n",
      "4838                      16.0  \n",
      "5156                      11.0  \n",
      "15506                      7.0  \n",
      "18420                     11.0  \n",
      "24691                      9.0  \n",
      "...                        ...  \n",
      "457013                    30.0  \n",
      "458816                     4.0  \n",
      "459635                    21.0  \n",
      "468324                     3.0  \n",
      "477526                     3.0  \n",
      "\n",
      "[121 rows x 6 columns]\n"
     ]
    }
   ],
   "source": [
    "# Basándote en tus hallazgos,\n",
    "# Verifica todos los pedidos que se hicieron el miércoles a las 2:00 a.m.\n",
    "wednesday_2am_orders = instacart_orders[(instacart_orders['order_dow'] == 3) & (instacart_orders['order_hour_of_day'] == 2)]\n",
    "print(wednesday_2am_orders)"
   ]
  },
  {
   "cell_type": "markdown",
   "id": "vu2OWyoqwOx5",
   "metadata": {
    "id": "vu2OWyoqwOx5"
   },
   "source": [
    "¿Qué sugiere este resultado?\n",
    "\n",
    "Sugiere que hay un problema con los datos ya que hay pedidos duplicados."
   ]
  },
  {
   "cell_type": "code",
   "execution_count": 15,
   "id": "480563c7",
   "metadata": {
    "id": "480563c7"
   },
   "outputs": [],
   "source": [
    "# Elimina los pedidos duplicados\n",
    "instacart_orders.drop_duplicates(subset=['order_id'], keep='first', inplace=True)\n"
   ]
  },
  {
   "cell_type": "code",
   "execution_count": 16,
   "id": "0b2396a2",
   "metadata": {
    "id": "0b2396a2"
   },
   "outputs": [
    {
     "name": "stdout",
     "output_type": "stream",
     "text": [
      "0\n"
     ]
    }
   ],
   "source": [
    "# Vuelve a verificar si hay filas duplicadas\n",
    "duplicated_orders = instacart_orders.duplicated(subset=['order_id'], keep=False)\n",
    "print(duplicated_orders.sum())"
   ]
  },
  {
   "cell_type": "code",
   "execution_count": 17,
   "id": "f6113ef1",
   "metadata": {
    "id": "f6113ef1"
   },
   "outputs": [
    {
     "name": "stdout",
     "output_type": "stream",
     "text": [
      "0\n"
     ]
    }
   ],
   "source": [
    "# Vuelve a verificar únicamente si hay IDs duplicados de pedidos\n",
    "duplicated_order_ids = instacart_orders.duplicated(subset=['order_id'], keep=False)\n",
    "print(duplicated_order_ids.sum())"
   ]
  },
  {
   "cell_type": "markdown",
   "id": "5e8905ae",
   "metadata": {
    "id": "5e8905ae"
   },
   "source": [
    "Describe brevemente tus hallazgos y lo que hiciste con ellos\n",
    "\n",
    "En este ejercicio encontramos que habìa un problema con los datos ya que había 30 pedidos duplicados y todos coincidían en que \n",
    "fueron realizados el día miércoles a las dos de la mañana, entonces se procedió a eliminar todos los pedidos duplicados."
   ]
  },
  {
   "cell_type": "markdown",
   "id": "45e6bc46",
   "metadata": {
    "id": "45e6bc46"
   },
   "source": [
    "### `products` data frame"
   ]
  },
  {
   "cell_type": "code",
   "execution_count": 18,
   "id": "5f526b5b-8175-46fa-a0fd-441767d50e64",
   "metadata": {
    "id": "5f526b5b-8175-46fa-a0fd-441767d50e64"
   },
   "outputs": [
    {
     "name": "stdout",
     "output_type": "stream",
     "text": [
      "0\n"
     ]
    }
   ],
   "source": [
    "# Verifica si hay filas totalmente duplicadas\n",
    "print(products.duplicated().sum())"
   ]
  },
  {
   "cell_type": "code",
   "execution_count": 19,
   "id": "88daa4f4",
   "metadata": {
    "id": "88daa4f4"
   },
   "outputs": [
    {
     "name": "stdout",
     "output_type": "stream",
     "text": [
      "0\n"
     ]
    }
   ],
   "source": [
    "# Verifica únicamente si hay IDs duplicadas de productos\n",
    "print(products.duplicated(subset=['product_id']).sum())"
   ]
  },
  {
   "cell_type": "code",
   "execution_count": 20,
   "id": "c773f0bf",
   "metadata": {
    "id": "c773f0bf"
   },
   "outputs": [
    {
     "name": "stdout",
     "output_type": "stream",
     "text": [
      "1361\n"
     ]
    }
   ],
   "source": [
    "# Revisa únicamente si hay nombres duplicados de productos (convierte los nombres a letras mayúsculas para compararlos mejor)\n",
    "print(products['product_name'].str.upper().duplicated().sum())"
   ]
  },
  {
   "cell_type": "code",
   "execution_count": 21,
   "id": "01efd02e",
   "metadata": {
    "id": "01efd02e"
   },
   "outputs": [
    {
     "name": "stdout",
     "output_type": "stream",
     "text": [
      "104\n"
     ]
    }
   ],
   "source": [
    "# Revisa si hay nombres duplicados de productos no faltantes\n",
    "non_missing_product_names = products['product_name'].dropna()\n",
    "non_missing_product_names_up = non_missing_product_names.str.upper()\n",
    "duplicated_non_missing_product_names = non_missing_product_names_up.duplicated()\n",
    "print(duplicated_non_missing_product_names.sum())"
   ]
  },
  {
   "cell_type": "markdown",
   "id": "9da8d293",
   "metadata": {
    "id": "9da8d293"
   },
   "source": [
    "Describe brevemente tus hallazgos y lo que hiciste con ellos.\n",
    "\n",
    "Encontré que no hay IDs duplicados de productos pero luego al revisar los nombres de productos convertidos a letras mayúsculas\n",
    "encontré 1361 duplicados, en cuanto a nombres duplicados de productos no faltantes me arrojó 104."
   ]
  },
  {
   "cell_type": "markdown",
   "id": "60f30db1",
   "metadata": {
    "id": "60f30db1"
   },
   "source": [
    "### `departments` data frame"
   ]
  },
  {
   "cell_type": "code",
   "execution_count": 23,
   "id": "fb410ad4-0fbf-4b80-bb09-23fdea79afe3",
   "metadata": {
    "id": "fb410ad4-0fbf-4b80-bb09-23fdea79afe3"
   },
   "outputs": [
    {
     "name": "stdout",
     "output_type": "stream",
     "text": [
      "0\n"
     ]
    }
   ],
   "source": [
    "# Revisa si hay filas totalmente duplicadas\n",
    "print(departments.duplicated().sum())"
   ]
  },
  {
   "cell_type": "code",
   "execution_count": 24,
   "id": "332b12bb",
   "metadata": {
    "id": "332b12bb"
   },
   "outputs": [
    {
     "name": "stdout",
     "output_type": "stream",
     "text": [
      "0\n"
     ]
    }
   ],
   "source": [
    "# Revisa únicamente si hay IDs duplicadas de productos\n",
    "print(departments.duplicated(subset=['department_id']).sum())"
   ]
  },
  {
   "cell_type": "markdown",
   "id": "bd30d78e",
   "metadata": {
    "id": "bd30d78e"
   },
   "source": [
    "Describe brevemente tus hallazgos y lo que hiciste con ellos.\n",
    "\n",
    "No encontré filas ni IDs duplicadas en departments."
   ]
  },
  {
   "cell_type": "markdown",
   "id": "889349c1",
   "metadata": {
    "id": "889349c1"
   },
   "source": [
    "### `aisles` data frame"
   ]
  },
  {
   "cell_type": "code",
   "execution_count": 25,
   "id": "9da89fb9-4679-40f5-ad0d-c34df753a3f8",
   "metadata": {
    "id": "9da89fb9-4679-40f5-ad0d-c34df753a3f8"
   },
   "outputs": [
    {
     "name": "stdout",
     "output_type": "stream",
     "text": [
      "0\n"
     ]
    }
   ],
   "source": [
    "# Revisa si hay filas totalmente duplicadas\n",
    "print(aisles.duplicated().sum())"
   ]
  },
  {
   "cell_type": "code",
   "execution_count": 26,
   "id": "da7c2822",
   "metadata": {
    "id": "da7c2822"
   },
   "outputs": [
    {
     "name": "stdout",
     "output_type": "stream",
     "text": [
      "0\n"
     ]
    }
   ],
   "source": [
    "# Revisa únicamente si hay IDs duplicadas de productos\n",
    "print(aisles.duplicated(subset=['aisle_id']).sum())"
   ]
  },
  {
   "cell_type": "markdown",
   "id": "ac63826f",
   "metadata": {
    "id": "ac63826f"
   },
   "source": [
    "Describe brevemente tus hallazgos y lo que hiciste con ellos.\n",
    "\n",
    "No encontré filas ni IDs duplicados en aisles."
   ]
  },
  {
   "cell_type": "markdown",
   "id": "274cd06a",
   "metadata": {
    "id": "274cd06a"
   },
   "source": [
    "### `order_products` data frame"
   ]
  },
  {
   "cell_type": "code",
   "execution_count": 27,
   "id": "52326689-84a8-4b8f-a881-7c68780f62c9",
   "metadata": {
    "id": "52326689-84a8-4b8f-a881-7c68780f62c9"
   },
   "outputs": [
    {
     "name": "stdout",
     "output_type": "stream",
     "text": [
      "0\n"
     ]
    }
   ],
   "source": [
    "# Revisa si hay filas totalmente duplicadas\n",
    "print(order_products.duplicated().sum())"
   ]
  },
  {
   "cell_type": "code",
   "execution_count": 28,
   "id": "7b861391",
   "metadata": {
    "id": "7b861391"
   },
   "outputs": [
    {
     "name": "stdout",
     "output_type": "stream",
     "text": [
      "0\n"
     ]
    }
   ],
   "source": [
    "# Vuelve a verificar si hay cualquier otro duplicado engañoso\n",
    "duplicated_order_products = order_products.duplicated(subset=['order_id', 'product_id'], keep=False)\n",
    "print(duplicated_order_products.sum())"
   ]
  },
  {
   "cell_type": "markdown",
   "id": "0b890492",
   "metadata": {
    "id": "0b890492"
   },
   "source": [
    "Describe brevemente tus hallazgos y lo que hiciste con ellos.\n",
    "\n",
    "No encontré filas ni duplicados engañosos en order_products."
   ]
  },
  {
   "cell_type": "markdown",
   "id": "1e46de76",
   "metadata": {
    "id": "1e46de76"
   },
   "source": [
    "## Encuentra y elimina los valores ausentes\n",
    "\n",
    "Al trabajar con valores duplicados, pudimos observar que también nos falta investigar valores ausentes:\n",
    "\n",
    "* La columna `'product_name'` de la tabla products.\n",
    "* La columna `'days_since_prior_order'` de la tabla orders.\n",
    "* La columna `'add_to_cart_order'` de la tabla order_productos."
   ]
  },
  {
   "cell_type": "markdown",
   "id": "c0aebd78",
   "metadata": {
    "id": "c0aebd78"
   },
   "source": [
    "### `products` data frame"
   ]
  },
  {
   "cell_type": "code",
   "execution_count": 29,
   "id": "fe4a8b0f",
   "metadata": {
    "id": "fe4a8b0f"
   },
   "outputs": [
    {
     "name": "stdout",
     "output_type": "stream",
     "text": [
      "1258\n"
     ]
    }
   ],
   "source": [
    "# Encuentra los valores ausentes en la columna 'product_name'\n",
    "missing_product_names = products['product_name'].isnull().sum()\n",
    "print(missing_product_names)"
   ]
  },
  {
   "cell_type": "markdown",
   "id": "-A6x1AbJhjkp",
   "metadata": {
    "id": "-A6x1AbJhjkp"
   },
   "source": [
    "Describe brevemente cuáles son tus hallazgos.\n",
    "\n",
    "Econtré que hay 1258 valores ausentes en la columna product_name."
   ]
  },
  {
   "cell_type": "code",
   "execution_count": 30,
   "id": "e96167bc",
   "metadata": {
    "id": "e96167bc"
   },
   "outputs": [
    {
     "name": "stdout",
     "output_type": "stream",
     "text": [
      "1258\n"
     ]
    }
   ],
   "source": [
    "#  ¿Todos los nombres de productos ausentes están relacionados con el pasillo con ID 100?\n",
    "missing_product_names_aisle_100 = products[products['aisle_id'] == 100]['product_name'].isnull().sum()\n",
    "print(missing_product_names_aisle_100)"
   ]
  },
  {
   "cell_type": "markdown",
   "id": "WRpIfXRphpSL",
   "metadata": {
    "id": "WRpIfXRphpSL"
   },
   "source": [
    "Describe brevemente cuáles son tus hallazgos.\n",
    "\n",
    "Al parecer todos los nombres de productos ausentes están relacionados con el pasillo con ID 100."
   ]
  },
  {
   "cell_type": "code",
   "execution_count": 31,
   "id": "8fd0a541",
   "metadata": {
    "id": "8fd0a541"
   },
   "outputs": [
    {
     "name": "stdout",
     "output_type": "stream",
     "text": [
      "1258\n"
     ]
    }
   ],
   "source": [
    "# ¿Todos los nombres de productos ausentes están relacionados con el departamento con ID 21?\n",
    "missing_product_names_department_21 = products[products['department_id'] == 21]['product_name'].isnull().sum()\n",
    "print(missing_product_names_department_21)"
   ]
  },
  {
   "cell_type": "markdown",
   "id": "qDpdYn1Fht_I",
   "metadata": {
    "id": "qDpdYn1Fht_I"
   },
   "source": [
    "Describe brevemente cuáles son tus hallazgos.\n",
    "\n",
    "Al parecer todos los nombres de productos ausentes estan relacionados con el departamento con ID 21."
   ]
  },
  {
   "cell_type": "code",
   "execution_count": 32,
   "id": "325c3464",
   "metadata": {
    "id": "325c3464"
   },
   "outputs": [
    {
     "name": "stdout",
     "output_type": "stream",
     "text": [
      "missing\n",
      "missing\n"
     ]
    }
   ],
   "source": [
    "# Usa las tablas department y aisle para revisar los datos del pasillo con ID 100 y el departamento con ID 21.\n",
    "aisle_100 = aisles[aisles['aisle_id'] == 100]['aisle'].values[0]\n",
    "department_21 = departments[departments['department_id'] == 21]['department'].values[0]\n",
    "print(aisle_100)\n",
    "print(department_21)"
   ]
  },
  {
   "cell_type": "markdown",
   "id": "nqhSTUPhhvEJ",
   "metadata": {
    "id": "nqhSTUPhhvEJ"
   },
   "source": [
    "Describe brevemente cuáles son tus hallazgos.\n",
    "\n",
    "Al revisar los datos del pasillo con ID 100 y el departamento con ID 21, econtré que todos los valores ausentes estaban relacionados con ambos, y al usar las tablas departament y aisle descubrí que aparecen etiquetados como missing por lo que se puede intuir que los productos asociados con este pasillo y departamento no tienen un nombre de producto asignado."
   ]
  },
  {
   "cell_type": "code",
   "execution_count": 33,
   "id": "6b295120",
   "metadata": {
    "id": "6b295120"
   },
   "outputs": [],
   "source": [
    "# Completa los nombres de productos ausentes con 'Unknown'\n",
    "products['product_name'].fillna('Unknown', inplace=True)"
   ]
  },
  {
   "cell_type": "markdown",
   "id": "fc70e5ad",
   "metadata": {
    "id": "fc70e5ad"
   },
   "source": [
    "Describe brevemente tus hallazgos y lo que hiciste con ellos.\n",
    "\n",
    "Al revisar y comprobar dónde estaban los valores ausentes como se menciona en el paso anterior, procedí a completar los nombres de productos ausentes con el nombre unknown."
   ]
  },
  {
   "cell_type": "markdown",
   "id": "7eb45c86",
   "metadata": {
    "id": "7eb45c86"
   },
   "source": [
    "### `orders` data frame"
   ]
  },
  {
   "cell_type": "code",
   "execution_count": 34,
   "id": "93e41d96",
   "metadata": {
    "id": "93e41d96",
    "scrolled": true
   },
   "outputs": [
    {
     "name": "stdout",
     "output_type": "stream",
     "text": [
      "order_id                      0\n",
      "user_id                       0\n",
      "order_number                  0\n",
      "order_dow                     0\n",
      "order_hour_of_day             0\n",
      "days_since_prior_order    28817\n",
      "dtype: int64\n"
     ]
    }
   ],
   "source": [
    "# Encuentra los valores ausentes\n",
    "missing_values_orders = instacart_orders.isnull().sum()\n",
    "print(missing_values_orders)"
   ]
  },
  {
   "cell_type": "code",
   "execution_count": 35,
   "id": "166e5a86",
   "metadata": {
    "id": "166e5a86"
   },
   "outputs": [
    {
     "name": "stdout",
     "output_type": "stream",
     "text": [
      "order_id                  0\n",
      "user_id                   0\n",
      "order_number              0\n",
      "order_dow                 0\n",
      "order_hour_of_day         0\n",
      "days_since_prior_order    0\n",
      "dtype: int64\n"
     ]
    }
   ],
   "source": [
    "# ¿Hay algún valor ausente que no sea el primer pedido del cliente?\n",
    "non_first_orders = instacart_orders[instacart_orders['order_number'] != 1]\n",
    "missing_values_non_first_orders = non_first_orders.isnull().sum()\n",
    "print(missing_values_non_first_orders)"
   ]
  },
  {
   "cell_type": "markdown",
   "id": "4e23d089",
   "metadata": {
    "id": "4e23d089"
   },
   "source": [
    "Describe brevemente tus hallazgos y lo que hiciste con ellos.\n",
    "\n",
    "Descubrí que hay un total de 28817 valores ausentes en la columna days_since_prior_order sin embargo ninguno es para los pedidos que no son el primer pedido del cliente, es decir los valores ausentes tienen relaciòn unicamente para el primer pedido de cada cliente."
   ]
  },
  {
   "cell_type": "markdown",
   "id": "69dc9ca4",
   "metadata": {
    "id": "69dc9ca4"
   },
   "source": [
    "### `order_products` data frame"
   ]
  },
  {
   "cell_type": "code",
   "execution_count": 36,
   "id": "b8240253",
   "metadata": {
    "id": "b8240253"
   },
   "outputs": [
    {
     "name": "stdout",
     "output_type": "stream",
     "text": [
      "order_id               0\n",
      "product_id             0\n",
      "add_to_cart_order    836\n",
      "reordered              0\n",
      "dtype: int64\n"
     ]
    }
   ],
   "source": [
    "# Encuentra los valores ausentes\n",
    "missing_values_order_products = order_products.isnull().sum()\n",
    "print(missing_values_order_products)\n"
   ]
  },
  {
   "cell_type": "code",
   "execution_count": 37,
   "id": "9a78e5ee",
   "metadata": {
    "id": "9a78e5ee"
   },
   "outputs": [
    {
     "name": "stdout",
     "output_type": "stream",
     "text": [
      "1.0 64.0\n"
     ]
    }
   ],
   "source": [
    "# ¿Cuáles son los valores mínimos y máximos en esta columna?\n",
    "min_value = order_products['add_to_cart_order'].min()\n",
    "max_value = order_products['add_to_cart_order'].max()\n",
    "print(min_value, max_value)\n"
   ]
  },
  {
   "cell_type": "markdown",
   "id": "-Z2Ja215jW78",
   "metadata": {
    "id": "-Z2Ja215jW78"
   },
   "source": [
    "Describe brevemente cuáles son tus hallazgos.\n",
    "\n",
    "Descubrí que hay 836 valores ausentes en la columna add_to_cart_order de order_products y los valores mínimos y máximos son 1 y 64."
   ]
  },
  {
   "cell_type": "code",
   "execution_count": 38,
   "id": "ab9d0c2b",
   "metadata": {
    "id": "ab9d0c2b"
   },
   "outputs": [],
   "source": [
    "# Guarda todas las IDs de pedidos que tengan un valor ausente en 'add_to_cart_order'\n",
    "missing_orders_ids = order_products[order_products['add_to_cart_order'].isnull()]['order_id']"
   ]
  },
  {
   "cell_type": "code",
   "execution_count": 39,
   "id": "54c31695",
   "metadata": {
    "id": "54c31695"
   },
   "outputs": [
    {
     "name": "stdout",
     "output_type": "stream",
     "text": [
      "True\n"
     ]
    }
   ],
   "source": [
    "# ¿Todos los pedidos con valores ausentes tienen más de 64 productos?\n",
    "# Agrupa todos los pedidos con datos ausentes por su ID de pedido.\n",
    "# Cuenta el número de 'product_id' en cada pedido y revisa el valor mínimo del conteo.\n",
    "grouped_orders = order_products[order_products['order_id'].isin(missing_orders_ids)].groupby('order_id').count()\n",
    "print(grouped_orders['product_id'].min() > 64)"
   ]
  },
  {
   "cell_type": "markdown",
   "id": "p9V6pddtjglj",
   "metadata": {
    "id": "p9V6pddtjglj"
   },
   "source": [
    "Describe brevemente cuáles son tus hallazgos.\n",
    "\n",
    "Confrome a los reslutados que obtuve, es cierto que todos los pedidos con valores ausentes tienen más de 64 productos."
   ]
  },
  {
   "cell_type": "code",
   "execution_count": 40,
   "id": "7a987d08",
   "metadata": {
    "id": "7a987d08",
    "scrolled": true
   },
   "outputs": [
    {
     "name": "stdout",
     "output_type": "stream",
     "text": [
      "   order_id  product_id  add_to_cart_order  reordered\n",
      "0   2141543       11440                 17          0\n",
      "1    567889        1560                  1          1\n",
      "2   2261212       26683                  1          1\n",
      "3    491251        8670                 35          1\n",
      "4   2571142        1940                  5          1\n"
     ]
    }
   ],
   "source": [
    "# Remplaza los valores ausentes en la columna 'add_to_cart? con 999 y convierte la columna al tipo entero.\n",
    "order_products['add_to_cart_order'].fillna(999, inplace=True)\n",
    "order_products['add_to_cart_order'] = order_products['add_to_cart_order'].astype(int)\n",
    "print(order_products.head())"
   ]
  },
  {
   "cell_type": "markdown",
   "id": "fea4bcc7",
   "metadata": {
    "id": "fea4bcc7"
   },
   "source": [
    "Describe brevemente tus hallazgos y lo que hiciste con ellos.\n",
    "\n",
    "Aquí remplacé los valores ausentes en la columna add_to_cart_order por 999 y convertimos la coumna a tipo entero como fue indicado.\n"
   ]
  },
  {
   "cell_type": "markdown",
   "id": "RnplPFY1gSrb",
   "metadata": {
    "id": "RnplPFY1gSrb"
   },
   "source": [
    "## Conclusiones\n",
    "\n",
    "Escribe aquí tus conclusiones intermedias sobre el Paso 2. Preprocesamiento de los datos\n",
    "\n",
    "A través de los ejercicios completados en el paso 2, he podido ir sacando conclusiones de los datos del caso, como los valores ausentes, los tipos de datos, los valores duplicados en cada dataframe y he podido ir profundizando, relacioando y modificando todos estos errores que se presentaban para tener una base de datos mas fidedigna para poder trabajar."
   ]
  },
  {
   "cell_type": "markdown",
   "id": "UjrOIwTcz3ri",
   "metadata": {
    "id": "UjrOIwTcz3ri"
   },
   "source": [
    "# Paso 3. Análisis de los datos\n",
    "\n",
    "Una vez los datos estén procesados y listos, haz el siguiente análisis:"
   ]
  },
  {
   "cell_type": "markdown",
   "id": "turkish-kidney",
   "metadata": {
    "id": "turkish-kidney"
   },
   "source": [
    "# [A] Fácil (deben completarse todos para aprobar)\n",
    "\n",
    "1. Verifica que los valores en las columnas `'order_hour_of_day'` y `'order_dow'` en la tabla orders sean razonables (es decir, `'order_hour_of_day'` oscile entre 0 y 23 y `'order_dow'` oscile entre 0 y 6).\n",
    "2. Crea un gráfico que muestre el número de personas que hacen pedidos dependiendo de la hora del día.\n",
    "3. Crea un gráfico que muestre qué día de la semana la gente hace sus compras.\n",
    "4. Crea un gráfico que muestre el tiempo que la gente espera hasta hacer su siguiente pedido, y comenta sobre los valores mínimos y máximos."
   ]
  },
  {
   "cell_type": "markdown",
   "id": "short-capability",
   "metadata": {
    "id": "short-capability"
   },
   "source": [
    "### [A1] Verifica que los valores sean sensibles"
   ]
  },
  {
   "cell_type": "code",
   "execution_count": 41,
   "id": "accessory-malaysia",
   "metadata": {
    "id": "accessory-malaysia"
   },
   "outputs": [
    {
     "name": "stdout",
     "output_type": "stream",
     "text": [
      "False\n",
      "False\n"
     ]
    }
   ],
   "source": [
    "print(any(~instacart_orders['order_hour_of_day'].between(0, 23)))\n",
    "print(any(~instacart_orders['order_dow'].between(0, 6)))"
   ]
  },
  {
   "cell_type": "markdown",
   "id": "hmR2GNQ6lCsX",
   "metadata": {
    "id": "hmR2GNQ6lCsX"
   },
   "source": [
    "Escribe aquí tus conclusiones\n",
    "\n",
    "No hay ningún valor en la columna order_hour_of_day que esté fuera del rango de 0 a 23, ni tampoco en la columna order_dow que esté fuera del rango de 0 a 6 por lo que se puede deducir que los valores son razonables."
   ]
  },
  {
   "cell_type": "markdown",
   "id": "a6743a70",
   "metadata": {
    "id": "a6743a70"
   },
   "source": [
    "### [A2] Para cada hora del día, ¿cuántas personas hacen órdenes?"
   ]
  },
  {
   "cell_type": "code",
   "execution_count": 42,
   "id": "a36cca27",
   "metadata": {
    "id": "a36cca27"
   },
   "outputs": [
    {
     "data": {
      "image/png": "[encoded data removed]",
      "text/plain": [
       "<Figure size 864x432 with 1 Axes>"
      ]
     },
     "metadata": {
      "needs_background": "light"
     },
     "output_type": "display_data"
    }
   ],
   "source": [
    "orders_per_hour = instacart_orders['order_hour_of_day'].value_counts().sort_index()\n",
    "orders_per_hour.plot(kind='bar', figsize=(12, 6))\n",
    "plt.xlabel('Hora del día')\n",
    "plt.ylabel('Número de pedidos')\n",
    "plt.title('Número de pedidos por hora del día')\n",
    "plt.show()"
   ]
  },
  {
   "cell_type": "markdown",
   "id": "11270eed",
   "metadata": {
    "id": "11270eed"
   },
   "source": [
    "Escribe aquí tus conclusiones\n",
    "\n",
    "En base a los resultados se puede observar que el pico máximo de pedidos por hora del día oscila entre las 10 y 16 horas llegando a alcanzar cifras de pedidos de 35000 a 40000."
   ]
  },
  {
   "cell_type": "markdown",
   "id": "documented-command",
   "metadata": {
    "id": "documented-command"
   },
   "source": [
    "### [A3] ¿Qué día de la semana compran víveres las personas?"
   ]
  },
  {
   "cell_type": "code",
   "execution_count": 43,
   "id": "chief-digit",
   "metadata": {
    "id": "chief-digit"
   },
   "outputs": [
    {
     "data": {
      "image/png": "[encoded data removed]",
      "text/plain": [
       "<Figure size 864x432 with 1 Axes>"
      ]
     },
     "metadata": {
      "needs_background": "light"
     },
     "output_type": "display_data"
    }
   ],
   "source": [
    "orders_per_dow = instacart_orders['order_dow'].value_counts().sort_index()\n",
    "\n",
    "orders_per_dow.plot(kind='bar', figsize=(12, 6))\n",
    "plt.xlabel('Día de la semana')\n",
    "plt.ylabel('Número de pedidos')\n",
    "plt.title('Número de pedidos por día de la semana')\n",
    "plt.show()\n",
    "\n"
   ]
  },
  {
   "cell_type": "markdown",
   "id": "dominant-lightning",
   "metadata": {
    "id": "dominant-lightning"
   },
   "source": [
    "Escribe aquí tus conclusiones\n",
    "\n",
    "En base a la tabla se entiende que las personas compran más víveres os días domingo y lunes."
   ]
  },
  {
   "cell_type": "markdown",
   "id": "cutting-concert",
   "metadata": {
    "id": "cutting-concert"
   },
   "source": [
    "### [A4] ¿Cuánto tiempo esperan las personas hasta hacer otro pedido? Comenta sobre los valores mínimos y máximos."
   ]
  },
  {
   "cell_type": "code",
   "execution_count": 44,
   "id": "c231f523",
   "metadata": {
    "id": "c231f523"
   },
   "outputs": [
    {
     "data": {
      "image/png": "[encoded data removed]",
      "text/plain": [
       "<Figure size 864x432 with 1 Axes>"
      ]
     },
     "metadata": {
      "needs_background": "light"
     },
     "output_type": "display_data"
    },
    {
     "name": "stdout",
     "output_type": "stream",
     "text": [
      "El tiempo mínimo que la gente espera hasta hacer su siguiente pedido es 0.0 días.\n",
      "El tiempo máximo que la gente espera hasta hacer su siguiente pedido es 30.0 días.\n"
     ]
    }
   ],
   "source": [
    "instacart_orders['days_since_prior_order'].plot(kind='hist', rwidth=0.8, bins=30, figsize=(12, 6))\n",
    "plt.xlabel('Días desde el pedido anterior')\n",
    "plt.ylabel('Número de pedidos')\n",
    "plt.title('Distribución del tiempo desde el pedido anterior')\n",
    "plt.show()\n",
    "\n",
    "min_days = instacart_orders['days_since_prior_order'].min()\n",
    "max_days = instacart_orders['days_since_prior_order'].max()\n",
    "print(f\"El tiempo mínimo que la gente espera hasta hacer su siguiente pedido es {min_days} días.\")\n",
    "print(f\"El tiempo máximo que la gente espera hasta hacer su siguiente pedido es {max_days} días.\")"
   ]
  },
  {
   "cell_type": "markdown",
   "id": "discrete-vertex",
   "metadata": {
    "id": "discrete-vertex"
   },
   "source": [
    "Escribe aquí tus conclusiones\n",
    "\n",
    "Se puede observar que las personas por lo general tardan menos de nueve días para hacer su siguiente compra y de ahí es muy bajo el porcentaje hasta llegar al día 30 que contrasta bastante al ser el día en que más personas hacen su siguiente pedido."
   ]
  },
  {
   "cell_type": "markdown",
   "id": "tight-staff",
   "metadata": {
    "id": "tight-staff"
   },
   "source": [
    "# [B] Intermedio (deben completarse todos para aprobar)\n",
    "\n",
    "1. ¿Existe alguna diferencia entre las distribuciones `'order_hour_of_day'` de los miércoles y los sábados? Traza gráficos de barra de `'order_hour_of_day'` para ambos días en la misma figura y describe las diferencias que observes.\n",
    "2. Grafica la distribución para el número de órdenes que hacen los clientes (es decir, cuántos clientes hicieron solo 1 pedido, cuántos hicieron 2, cuántos 3, y así sucesivamente...).\n",
    "3. ¿Cuáles son los 20 principales productos que se piden con más frecuencia (muestra su identificación y nombre)?"
   ]
  },
  {
   "cell_type": "markdown",
   "id": "packed-classic",
   "metadata": {
    "id": "packed-classic"
   },
   "source": [
    "### [B1] Diferencia entre miércoles y sábados para  `'order_hour_of_day'`. Traza gráficos de barra para los dos días y describe las diferencias que veas."
   ]
  },
  {
   "cell_type": "code",
   "execution_count": 45,
   "id": "d89b8403",
   "metadata": {
    "id": "d89b8403"
   },
   "outputs": [],
   "source": [
    "wednesday_orders = instacart_orders[instacart_orders['order_dow'] == 2]['order_hour_of_day']\n"
   ]
  },
  {
   "cell_type": "code",
   "execution_count": 46,
   "id": "94e54e8a",
   "metadata": {
    "id": "94e54e8a"
   },
   "outputs": [],
   "source": [
    "saturday_orders = instacart_orders[instacart_orders['order_dow'] == 5]['order_hour_of_day']"
   ]
  },
  {
   "cell_type": "code",
   "execution_count": 47,
   "id": "797c90a8",
   "metadata": {
    "id": "797c90a8"
   },
   "outputs": [
    {
     "data": {
      "image/png": "[encoded data removed]",
      "text/plain": [
       "<Figure size 1008x504 with 1 Axes>"
      ]
     },
     "metadata": {
      "needs_background": "light"
     },
     "output_type": "display_data"
    }
   ],
   "source": [
    "plt.figure(figsize=(14, 7))\n",
    "plt.hist([wednesday_orders, saturday_orders], bins=24, label=['Miércoles', 'Sábado'])\n",
    "plt.xlabel('Hora del día')\n",
    "plt.ylabel('Número de pedidos')\n",
    "plt.title('Número de pedidos por hora del día en miércoles y sábados')\n",
    "plt.legend(loc='upper right')\n",
    "plt.show()"
   ]
  },
  {
   "cell_type": "markdown",
   "id": "charitable-congo",
   "metadata": {
    "id": "charitable-congo"
   },
   "source": [
    "Escribe aquí tus conclusiones\n",
    "\n",
    "Existe una ligera diferencia de número de pedidos entre los días miércoles y sábado, pero se puede percibir que en la mayoría de las horas los dias miércoles hay un ligero incremento de pedidos en comparación con los sábados."
   ]
  },
  {
   "cell_type": "markdown",
   "id": "e3891143",
   "metadata": {
    "id": "e3891143"
   },
   "source": [
    "### [B2] ¿Cuál es la distribución para el número de pedidos por cliente?"
   ]
  },
  {
   "cell_type": "code",
   "execution_count": 48,
   "id": "d8c26c23",
   "metadata": {
    "id": "d8c26c23"
   },
   "outputs": [],
   "source": [
    "orders_per_customer = instacart_orders['user_id'].value_counts()"
   ]
  },
  {
   "cell_type": "code",
   "execution_count": 49,
   "id": "00e69a66",
   "metadata": {
    "id": "00e69a66"
   },
   "outputs": [
    {
     "data": {
      "image/png": "[encoded data removed]",
      "text/plain": [
       "<Figure size 1008x504 with 1 Axes>"
      ]
     },
     "metadata": {
      "needs_background": "light"
     },
     "output_type": "display_data"
    }
   ],
   "source": [
    "plt.figure(figsize=(14, 7))\n",
    "plt.hist(orders_per_customer, bins=30)\n",
    "plt.xlabel('Número de pedidos')\n",
    "plt.ylabel('Número de clientes')\n",
    "plt.title('Distribución del número de pedidos por cliente')\n",
    "plt.show()"
   ]
  },
  {
   "cell_type": "markdown",
   "id": "d2eff7d5",
   "metadata": {
    "id": "d2eff7d5"
   },
   "source": [
    "Escribe aquí tus conclusiones\n",
    "\n",
    "la mayoría de los clientes hacen un sólo pedido y de ahí se mantiene el rango entre los 10000 y 40000 clientes que realizan hasta 4 pedidos, de ahí en adelante es muy poca la gente la que realiza mas de 5 pedidos."
   ]
  },
  {
   "cell_type": "markdown",
   "id": "54a0319c",
   "metadata": {
    "id": "54a0319c"
   },
   "source": [
    "### [B3] ¿Cuáles son los 20 productos más populares (muestra su ID y nombre)?"
   ]
  },
  {
   "cell_type": "code",
   "execution_count": 50,
   "id": "exterior-arizona",
   "metadata": {
    "id": "exterior-arizona",
    "scrolled": true
   },
   "outputs": [],
   "source": [
    "top_products = order_products['product_id'].value_counts().head(20).index"
   ]
  },
  {
   "cell_type": "code",
   "execution_count": 51,
   "id": "universal-facial",
   "metadata": {
    "id": "universal-facial"
   },
   "outputs": [],
   "source": [
    "top_products_names = products[products['product_id'].isin(top_products)]['product_name']"
   ]
  },
  {
   "cell_type": "code",
   "execution_count": 52,
   "id": "bbcdd20b",
   "metadata": {
    "id": "bbcdd20b"
   },
   "outputs": [
    {
     "name": "stdout",
     "output_type": "stream",
     "text": [
      "Los 20 productos más populares son:\n",
      "5875                Organic Lemon\n",
      "8276     Apple Honeycrisp Organic\n",
      "13175      Bag of Organic Bananas\n",
      "16796                Strawberries\n",
      "21136        Organic Strawberries\n",
      "21902        Organic Baby Spinach\n",
      "22934        Organic Yellow Onion\n",
      "24851                      Banana\n",
      "24963              Organic Garlic\n",
      "26208                       Limes\n",
      "27844          Organic Whole Milk\n",
      "27965         Organic Raspberries\n",
      "28203          Organic Fuji Apple\n",
      "39274         Organic Blueberries\n",
      "40705      Organic Grape Tomatoes\n",
      "45006            Organic Zucchini\n",
      "47208        Organic Hass Avocado\n",
      "47625                 Large Lemon\n",
      "47765             Organic Avocado\n",
      "49682              Cucumber Kirby\n",
      "Name: product_name, dtype: object\n"
     ]
    }
   ],
   "source": [
    "print('Los 20 productos más populares son:')\n",
    "print(top_products_names)"
   ]
  },
  {
   "cell_type": "markdown",
   "id": "7df00f47",
   "metadata": {
    "id": "7df00f47"
   },
   "source": [
    "Escribe aquí tus conclusiones\n",
    "\n",
    "En base a este ejercicio se puede determinar cuales son los 20 prodcutos más populares."
   ]
  },
  {
   "cell_type": "markdown",
   "id": "gross-theme",
   "metadata": {
    "id": "gross-theme"
   },
   "source": [
    "# [C] Difícil (deben completarse todos para aprobar)\n",
    "\n",
    "1. ¿Cuántos artículos suelen comprar las personas en un pedido? ¿Cómo es la distribución?\n",
    "2. ¿Cuáles son los 20 principales artículos que vuelven a pedirse con mayor frecuencia (muestra sus nombres e IDs de los productos)?\n",
    "3. Para cada producto, ¿cuál es la tasa de repetición del pedido (número de repeticiones de pedido/total de pedidos?\n",
    "4. Para cada cliente, ¿qué proporción de los productos que pidió ya los había pedido? Calcula la tasa de repetición de pedido para cada usuario en lugar de para cada producto.\n",
    "5. ¿Cuáles son los 20 principales artículos que la gente pone primero en sus carritos (muestra las IDs de los productos, sus nombres, y el número de veces en que fueron el primer artículo en añadirse al carrito)?"
   ]
  },
  {
   "cell_type": "markdown",
   "id": "romantic-deposit",
   "metadata": {
    "id": "romantic-deposit"
   },
   "source": [
    "### [C1] ¿Cuántos artículos compran normalmente las personas en un pedido? ¿Cómo es la distribución?"
   ]
  },
  {
   "cell_type": "code",
   "execution_count": 53,
   "id": "sensitive-breathing",
   "metadata": {
    "id": "sensitive-breathing"
   },
   "outputs": [],
   "source": [
    "order_sizes = order_products.groupby('order_id').size()"
   ]
  },
  {
   "cell_type": "code",
   "execution_count": 54,
   "id": "completed-frank",
   "metadata": {
    "id": "completed-frank"
   },
   "outputs": [
    {
     "data": {
      "image/png": "[encoded data removed]",
      "text/plain": [
       "<Figure size 432x288 with 1 Axes>"
      ]
     },
     "metadata": {
      "needs_background": "light"
     },
     "output_type": "display_data"
    }
   ],
   "source": [
    "plt.hist(order_sizes, bins=np.arange(1, 55) - 0.5)\n",
    "plt.xlabel('Número de artículos por pedido')\n",
    "plt.ylabel('Número de pedidos')\n",
    "plt.title('Distribución del número de artículos por pedido')\n",
    "plt.show()"
   ]
  },
  {
   "cell_type": "markdown",
   "id": "designed-mortality",
   "metadata": {
    "id": "designed-mortality"
   },
   "source": [
    "Escribe aquí tus conclusiones\n",
    "\n",
    "La mayoría de la gente compra entre 2 y 9 artículos en un mismo pedido, de ahí empieza a disminuir proporcionalmente el número de personas que compra más de 9 artículos en un mismo pedido."
   ]
  },
  {
   "cell_type": "markdown",
   "id": "5e6b5537",
   "metadata": {
    "id": "5e6b5537"
   },
   "source": [
    "### [C2] ¿Cuáles son los 20 principales artículos que vuelven a pedirse con mayor frecuencia (muestra sus nombres e IDs de los productos)?"
   ]
  },
  {
   "cell_type": "code",
   "execution_count": 55,
   "id": "9374e55a",
   "metadata": {
    "id": "9374e55a"
   },
   "outputs": [],
   "source": [
    "top_reordered_products = order_products[order_products['reordered'] == 1]['product_id'].value_counts().head(20).index"
   ]
  },
  {
   "cell_type": "code",
   "execution_count": 56,
   "id": "possible-change",
   "metadata": {
    "id": "possible-change",
    "scrolled": true
   },
   "outputs": [],
   "source": [
    "top_reordered_products_names = products[products['product_id'].isin(top_reordered_products)][['product_id', 'product_name']]"
   ]
  },
  {
   "cell_type": "code",
   "execution_count": 57,
   "id": "professional-surfing",
   "metadata": {
    "id": "professional-surfing",
    "scrolled": true
   },
   "outputs": [
    {
     "name": "stdout",
     "output_type": "stream",
     "text": [
      "       product_id              product_name\n",
      "5875         5876             Organic Lemon\n",
      "8276         8277  Apple Honeycrisp Organic\n",
      "13175       13176    Bag of Organic Bananas\n",
      "16796       16797              Strawberries\n",
      "21136       21137      Organic Strawberries\n",
      "21902       21903      Organic Baby Spinach\n",
      "22934       22935      Organic Yellow Onion\n",
      "24851       24852                    Banana\n",
      "24963       24964            Organic Garlic\n",
      "26208       26209                     Limes\n",
      "27844       27845        Organic Whole Milk\n",
      "27965       27966       Organic Raspberries\n",
      "28203       28204        Organic Fuji Apple\n",
      "39274       39275       Organic Blueberries\n",
      "45006       45007          Organic Zucchini\n",
      "47208       47209      Organic Hass Avocado\n",
      "47625       47626               Large Lemon\n",
      "47765       47766           Organic Avocado\n",
      "49234       49235       Organic Half & Half\n",
      "49682       49683            Cucumber Kirby\n"
     ]
    }
   ],
   "source": [
    "print(top_reordered_products_names)"
   ]
  },
  {
   "cell_type": "markdown",
   "id": "80e70c74",
   "metadata": {
    "id": "80e70c74"
   },
   "source": [
    "Escribe aquí tus conclusiones\n",
    "\n",
    "Aquí se muestran los 20 productos que se vuven a pedir con mayor frecuencia."
   ]
  },
  {
   "cell_type": "markdown",
   "id": "9d312b14",
   "metadata": {
    "id": "9d312b14"
   },
   "source": [
    "### [C3] Para cada producto, ¿cuál es la proporción de las veces que se pide y que se vuelve a pedir?"
   ]
  },
  {
   "cell_type": "code",
   "execution_count": 58,
   "id": "8ae9f4b1",
   "metadata": {
    "id": "8ae9f4b1"
   },
   "outputs": [],
   "source": [
    "product_order_counts = order_products['product_id'].value_counts()"
   ]
  },
  {
   "cell_type": "code",
   "execution_count": 59,
   "id": "103e7fe1",
   "metadata": {
    "id": "103e7fe1"
   },
   "outputs": [],
   "source": [
    "product_reorder_counts = order_products[order_products['reordered'] == 1]['product_id'].value_counts()"
   ]
  },
  {
   "cell_type": "code",
   "execution_count": 60,
   "id": "social-individual",
   "metadata": {
    "id": "social-individual"
   },
   "outputs": [
    {
     "name": "stdout",
     "output_type": "stream",
     "text": [
      "1        0.564286\n",
      "3        0.738095\n",
      "4        0.510204\n",
      "7        0.500000\n",
      "8        0.315789\n",
      "           ...   \n",
      "49690    0.800000\n",
      "49691    0.430556\n",
      "49692    0.416667\n",
      "49693    0.440000\n",
      "49694    0.333333\n",
      "Name: product_id, Length: 36228, dtype: float64\n"
     ]
    }
   ],
   "source": [
    "product_reorder_ratio = (product_reorder_counts / product_order_counts).dropna()\n",
    "print(product_reorder_ratio)"
   ]
  },
  {
   "cell_type": "markdown",
   "id": "I10dEIAyldcO",
   "metadata": {
    "id": "I10dEIAyldcO"
   },
   "source": [
    "Escribe aquí tus conclusiones\n",
    "\n",
    "Aquí se pueden analizar los resultados de las proporciones en que se vuekve a pedir cada producto y lo que se pide con mayor frecuencia se muestra en el ejercicio anterior."
   ]
  },
  {
   "cell_type": "markdown",
   "id": "subject-boxing",
   "metadata": {
    "id": "subject-boxing"
   },
   "source": [
    "### [C4] Para cada cliente, ¿qué proporción de sus productos ya los había pedido?"
   ]
  },
  {
   "cell_type": "code",
   "execution_count": 61,
   "id": "medical-couple",
   "metadata": {
    "id": "medical-couple",
    "scrolled": true
   },
   "outputs": [],
   "source": [
    "customer_order_counts = order_products.groupby('order_id')['product_id'].nunique()"
   ]
  },
  {
   "cell_type": "code",
   "execution_count": 62,
   "id": "8892e4b4",
   "metadata": {
    "id": "8892e4b4"
   },
   "outputs": [
    {
     "name": "stdout",
     "output_type": "stream",
     "text": [
      "order_id\n",
      "4          0.923077\n",
      "9          0.666667\n",
      "11         1.000000\n",
      "19         1.000000\n",
      "31         0.900000\n",
      "             ...   \n",
      "3421013    0.750000\n",
      "3421018    0.722222\n",
      "3421034    1.000000\n",
      "3421053    1.000000\n",
      "3421071    0.200000\n",
      "Name: product_id, Length: 395819, dtype: float64\n"
     ]
    }
   ],
   "source": [
    "customer_reorder_counts = order_products[order_products['reordered'] == 1].groupby('order_id')['product_id'].nunique()\n",
    "customer_reorder_ratio = (customer_reorder_counts / customer_order_counts).dropna()\n",
    "print(customer_reorder_ratio)"
   ]
  },
  {
   "cell_type": "markdown",
   "id": "BgJSvXDsleXz",
   "metadata": {
    "id": "BgJSvXDsleXz"
   },
   "source": [
    "Escribe aquí tus conclusiones\n",
    "\n",
    "en el ejercicio anterior se puede observar la proporción de los prodcutos que cada cliente volvió a comprar."
   ]
  },
  {
   "cell_type": "markdown",
   "id": "92d35137",
   "metadata": {
    "id": "92d35137"
   },
   "source": [
    "### [C5] ¿Cuáles son los 20 principales artículos que las personas ponen primero en sus carritos?"
   ]
  },
  {
   "cell_type": "code",
   "execution_count": 63,
   "id": "0ae57274",
   "metadata": {
    "id": "0ae57274",
    "scrolled": true
   },
   "outputs": [],
   "source": [
    "first_added_products = order_products[order_products['add_to_cart_order'] == 1]['product_id'].value_counts().head(20).index"
   ]
  },
  {
   "cell_type": "code",
   "execution_count": 64,
   "id": "forty-netherlands",
   "metadata": {
    "id": "forty-netherlands",
    "scrolled": true
   },
   "outputs": [],
   "source": [
    "first_added_products_names = products[products['product_id'].isin(first_added_products)][['product_id', 'product_name']]"
   ]
  },
  {
   "cell_type": "code",
   "execution_count": 65,
   "id": "08e41ec2",
   "metadata": {
    "id": "08e41ec2"
   },
   "outputs": [
    {
     "name": "stdout",
     "output_type": "stream",
     "text": [
      "       product_id                 product_name\n",
      "195           196                         Soda\n",
      "5784         5785  Organic Reduced Fat 2% Milk\n",
      "12340       12341                Hass Avocados\n",
      "13175       13176       Bag of Organic Bananas\n",
      "16796       16797                 Strawberries\n",
      "19659       19660                 Spring Water\n",
      "21136       21137         Organic Strawberries\n",
      "21902       21903         Organic Baby Spinach\n",
      "22934       22935         Organic Yellow Onion\n",
      "24851       24852                       Banana\n",
      "26208       26209                        Limes\n",
      "27085       27086                  Half & Half\n",
      "27844       27845           Organic Whole Milk\n",
      "27965       27966          Organic Raspberries\n",
      "38688       38689     Organic Reduced Fat Milk\n",
      "44631       44632   Sparkling Water Grapefruit\n",
      "47208       47209         Organic Hass Avocado\n",
      "47625       47626                  Large Lemon\n",
      "47765       47766              Organic Avocado\n",
      "49234       49235          Organic Half & Half\n"
     ]
    }
   ],
   "source": [
    "print(first_added_products_names)"
   ]
  },
  {
   "cell_type": "markdown",
   "id": "28ce9872",
   "metadata": {
    "id": "28ce9872"
   },
   "source": [
    "Escribe aquí tus conclusiones\n",
    "\n",
    "Aquí se muestran los 20 principales produtos que las personas ponen primero en el carrito."
   ]
  },
  {
   "cell_type": "markdown",
   "id": "uITbFCEoDosC",
   "metadata": {
    "id": "uITbFCEoDosC"
   },
   "source": [
    "### Conclusion general del proyecto:"
   ]
  },
  {
   "cell_type": "markdown",
   "id": "b69d1fec",
   "metadata": {
    "id": "Nk-4GS7mDwqY"
   },
   "source": [
    "Mediante este proyecto pudimos dar solución a los problemas presentados en cada dataframe y después pudimos profundizar \n",
    "en todo el contenido para poder  mostrar una visión general y dar respuestas a preguntas específicas acerca del conjunto\n",
    "de datos que nos fue proporcionado, logrando ver por ejemplo: las diferencias del volumen de compras de diferentes días \n",
    "a la semana, los días en que las personas compran más insumos, los productos que más compra la gente, la proporción de veces\n",
    "que un artículo se vulve a pedir, los artículos que más vuelve a pedir cada cliente, etc.\n"
   ]
  }
 ],
 "metadata": {
  "colab": {
   "provenance": []
  },
  "kernelspec": {
   "display_name": "Python 3 (ipykernel)",
   "language": "python",
   "name": "python3"
  },
  "language_info": {
   "codemirror_mode": {
    "name": "ipython",
    "version": 3
   },
   "file_extension": ".py",
   "mimetype": "text/x-python",
   "name": "python",
   "nbconvert_exporter": "python",
   "pygments_lexer": "ipython3",
   "version": "3.9.19"
  },
  "toc": {
   "base_numbering": 1,
   "nav_menu": {},
   "number_sections": true,
   "sideBar": true,
   "skip_h1_title": true,
   "title_cell": "Table of Contents",
   "title_sidebar": "Contents",
   "toc_cell": false,
   "toc_position": {},
   "toc_section_display": true,
   "toc_window_display": false
  },
  "vscode": {
   "interpreter": {
    "hash": "01a7be9ec63e704a62cefc5fe7a4756944464ee731be31632bdf42a4cb4688cf"
   }
  }
 },
 "nbformat": 4,
 "nbformat_minor": 5
}
